{
 "cells": [
  {
   "cell_type": "code",
   "execution_count": 11,
   "metadata": {
    "collapsed": true
   },
   "outputs": [],
   "source": [
    "import pandas as pd\n",
    "import matplotlib as mp\n",
    "\n",
    "housingInfo = pd.read_csv('housing/train.csv')\n",
    "\n",
    "#Data to Analyze from main data############\n",
    "lotArea = housingInfo['LotArea']\n",
    "overallQ = housingInfo['OverallQual']\n",
    "overallC = housingInfo['OverallCond']\n",
    "yearB = housingInfo['YearBuilt']\n",
    "yearR = housingInfo['YearRemodAdd']\n",
    "############################################\n",
    "\n",
    "#Price\n",
    "price = housingInfo['SalePrice']\n",
    "\n"
   ]
  },
  {
   "cell_type": "code",
   "execution_count": null,
   "metadata": {},
   "outputs": [],
   "source": []
  }
 ],
 "metadata": {
  "kernelspec": {
   "display_name": "Python 3",
   "language": "python",
   "name": "python3"
  },
  "language_info": {
   "codemirror_mode": {
    "name": "ipython",
    "version": 3
   },
   "file_extension": ".py",
   "mimetype": "text/x-python",
   "name": "python",
   "nbconvert_exporter": "python",
   "pygments_lexer": "ipython3",
   "version": "3.6.5"
  }
 },
 "nbformat": 4,
 "nbformat_minor": 2
}

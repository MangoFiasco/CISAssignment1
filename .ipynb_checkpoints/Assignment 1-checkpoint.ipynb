{
 "cells": [
  {
   "cell_type": "code",
   "execution_count": 168,
   "metadata": {},
   "outputs": [
    {
     "name": "stdout",
     "output_type": "stream",
     "text": [
      "0    0.347154\n",
      "1    0.007286\n",
      "2    0.535970\n",
      "3   -0.515105\n",
      "4    0.869545\n",
      "Name: Price, dtype: float64\n"
     ]
    }
   ],
   "source": [
    "import pandas as pd\n",
    "%matplotlib inline\n",
    "import matplotlib.pyplot as plt\n",
    "import numpy as np\n",
    "from collections import OrderedDict\n",
    "\n",
    "housingInfo = pd.read_csv('housing/train.csv')\n",
    "housingInfo = housingInfo.sort_values(\"SalePrice\")\n",
    "\n",
    "#Data to Analyze from main data############\n",
    "lotArea = housingInfo['LotArea']\n",
    "overallQ = housingInfo['OverallQual']\n",
    "overallC = housingInfo['OverallCond']\n",
    "yearB = housingInfo['YearBuilt']\n",
    "yearR = housingInfo['YearRemodAdd']\n",
    "############################################\n",
    "\n",
    "\n",
    "\n",
    "#Price\n",
    "price = housingInfo['SalePrice']\n",
    "\n",
    "all = pd.DataFrame({\n",
    "    \"LotArea\":lotArea,\n",
    "    \"YearB\": yearB,\n",
    "    \"Price\": price\n",
    "})\n",
    "\n",
    "all.sort_index(inplace=True)\n",
    "all = (all-all.mean())/all.std()\n",
    "features = pd.DataFrame({\n",
    "    \"LotArea\":all[\"LotArea\"],\n",
    "})\n",
    "price = all[\"Price\"]\n",
    "\n",
    "print(price.head())\n",
    "#Graph Equations"
   ]
  },
  {
   "cell_type": "code",
   "execution_count": null,
   "metadata": {},
   "outputs": [],
   "source": []
  },
  {
   "cell_type": "code",
   "execution_count": null,
   "metadata": {},
   "outputs": [],
   "source": []
  },
  {
   "cell_type": "code",
   "execution_count": null,
   "metadata": {},
   "outputs": [],
   "source": []
  },
  {
   "cell_type": "code",
   "execution_count": null,
   "metadata": {},
   "outputs": [],
   "source": []
  },
  {
   "cell_type": "markdown",
   "metadata": {},
   "source": [
    "When we are starting with a dummy line we try and make it close to the line of best fit as possible through eyeballing. This is called bias, it is sometimes useful (especially in a simple case) but detremental on larger data sets. The formula we started off with for lot area vs Price is 20x +100"
   ]
  },
  {
   "cell_type": "code",
   "execution_count": 26,
   "metadata": {
    "scrolled": true
   },
   "outputs": [
    {
     "name": "stdout",
     "output_type": "stream",
     "text": [
      "1460\n"
     ]
    },
    {
     "data": {
      "image/png": "[encoded data removed]",
      "text/plain": [
       "<Figure size 720x720 with 1 Axes>"
      ]
     },
     "metadata": {},
     "output_type": "display_data"
    }
   ],
   "source": [
    "#lotArea Vs Price Model\n",
    "\n",
    "X = lotArea\n",
    "Y = price\n",
    "n = lotArea.shape[0]\n",
    "print(n)\n",
    "plt.figure(figsize=(10,10))\n",
    "plt.scatter(X,Y,3)\n",
    "plt.xlim(0,60000)\n",
    "w = 0.\n",
    "b = 0.\n",
    "x = np.array(range(0,60000,1))\n",
    "y = (w*x + b)\n",
    "plt.plot(x,y)\n",
    "plt.show()"
   ]
  },
  {
   "cell_type": "code",
   "execution_count": null,
   "metadata": {},
   "outputs": [],
   "source": []
  },
  {
   "cell_type": "markdown",
   "metadata": {},
   "source": []
  },
  {
   "cell_type": "code",
   "execution_count": 27,
   "metadata": {},
   "outputs": [
    {
     "name": "stdout",
     "output_type": "stream",
     "text": [
      "0.9993150684931503\n"
     ]
    }
   ],
   "source": [
    "#LOSS \n",
    "def getLoss(X,y,w,b):\n",
    "    i = 0\n",
    "    MSE = 0\n",
    "    elements = X.shape[0]\n",
    "    loss = np.array(range(0,elements))\n",
    "    while i<X.shape[0]:\n",
    "        MSE = MSE + (y[i] - (w*X[i]+b))**2\n",
    "        i = i+1\n",
    "    MSE = MSE/i\n",
    "    return MSE\n",
    "\n",
    "print(getLoss(features[\"YearB\"],Y,w,b))"
   ]
  },
  {
   "cell_type": "code",
   "execution_count": null,
   "metadata": {},
   "outputs": [],
   "source": []
  },
  {
   "cell_type": "code",
   "execution_count": null,
   "metadata": {},
   "outputs": [],
   "source": []
  },
  {
   "cell_type": "code",
   "execution_count": null,
   "metadata": {},
   "outputs": [],
   "source": []
  },
  {
   "cell_type": "code",
   "execution_count": 141,
   "metadata": {},
   "outputs": [],
   "source": [
    "# GRADIENT DECENT!\n",
    "\n",
    "def GradientDecent(w,b,X,y,learningRate,attempt):\n",
    "    desc = 0\n",
    "    err = []\n",
    "    while desc < attempt:\n",
    "        yGuess = w * X + b\n",
    "        wGrd = -(2/n) * sum(X * (Y - yGuess))\n",
    "        bGrd =  -(2/n) * sum(Y - yGuess)\n",
    "\n",
    "        newW = w - wGrd/learningRate\n",
    "        newB = b - bGrd/learningRate\n",
    "        err.append(mvLoss(X,Y,[newB,newW]))\n",
    "        w = newW\n",
    "        b = newB\n",
    "        desc = desc + 1\n",
    "    plt.scatter(range(0,attempt),err,1)\n",
    "    plt.show\n",
    "    return [w,b]"
   ]
  },
  {
   "cell_type": "code",
   "execution_count": 74,
   "metadata": {},
   "outputs": [
    {
     "data": {
      "text/plain": [
       "1460"
      ]
     },
     "execution_count": 74,
     "metadata": {},
     "output_type": "execute_result"
    }
   ],
   "source": [
    "price.size"
   ]
  },
  {
   "cell_type": "code",
   "execution_count": 163,
   "metadata": {},
   "outputs": [
    {
     "name": "stdout",
     "output_type": "stream",
     "text": [
      "2.4539773725259355\n"
     ]
    },
    {
     "data": {
      "text/plain": [
       "2.4539773725259355"
      ]
     },
     "execution_count": 163,
     "metadata": {},
     "output_type": "execute_result"
    }
   ],
   "source": [
    "def mvLoss(X,Y,W):\n",
    "    X = X.values\n",
    "    i = 0\n",
    "    MSE = 0\n",
    "    w = W[1:]\n",
    "    b = W[0]\n",
    "    while i < Y.size:\n",
    "        if(X[i].size == 1):\n",
    "            MSE = MSE + (Y[i] - (b + w[0]*X[i]))**2\n",
    "        else:\n",
    "            MSE = MSE + (Y[i] - (b + sum(w*X[i])))**2\n",
    "        i = i +1\n",
    "    MSE = MSE / Y.size\n",
    "    print(MSE)\n",
    "    return MSE\n",
    "mvLoss(features,price,[1,1,1])"
   ]
  },
  {
   "cell_type": "code",
   "execution_count": 160,
   "metadata": {
    "scrolled": true
   },
   "outputs": [
    {
     "name": "stdout",
     "output_type": "stream",
     "text": [
      "0.01637429055366117\n",
      "0.9010105961664012\n",
      "0.029475966050090646\n",
      "0.8380741858468591\n",
      "0.039959101197302255\n",
      "0.7977810877796201\n",
      "0.048347045360982104\n",
      "0.7719846728965188\n",
      "0.055058549725373065\n",
      "0.7554693128785152\n",
      "0.060428672601045334\n",
      "0.7448958623521422\n",
      "0.0647255065348538\n",
      "0.7381265363482423\n",
      "0.06816356228928876\n",
      "0.7337926838908274\n",
      "0.07091447785937843\n",
      "0.7310180683512854\n",
      "0.0731155871531995\n",
      "0.7292417062189993\n",
      "0.07487677611007743\n",
      "0.7281044450813584\n",
      "0.07628596853434098\n",
      "0.7273763486692104\n",
      "0.07741351551380994\n",
      "0.7269102073689969\n",
      "0.07831570755587546\n",
      "0.7266117747601573\n",
      "0.07903758477747884\n",
      "0.726420712475015\n",
      "0.07961518544205216\n",
      "0.726298390732272\n",
      "0.08007734509708954\n",
      "0.7262200780043757\n",
      "0.08044713613066123\n",
      "0.7261699406926188\n",
      "0.08074301961382455\n",
      "0.7261378418231528\n",
      "0.08097976693233919\n",
      "0.7261172915107256\n"
     ]
    },
    {
     "data": {
      "image/png": "[encoded data removed]",
      "text/plain": [
       "<Figure size 432x288 with 1 Axes>"
      ]
     },
     "metadata": {},
     "output_type": "display_data"
    },
    {
     "data": {
      "image/png": "[encoded data removed]",
      "text/plain": [
       "<Figure size 720x720 with 1 Axes>"
      ]
     },
     "metadata": {},
     "output_type": "display_data"
    },
    {
     "name": "stdout",
     "output_type": "stream",
     "text": [
      "New w: 0.5168480575862626 New b: -3.8963505177238627e-16\n"
     ]
    }
   ],
   "source": [
    "w = 0\n",
    "b = 10000\n",
    "X = features[\"YearB\"]\n",
    "result = GradientDecent(0,0,X,Y,10,20)\n",
    "w = result[0]\n",
    "b = result[1]\n",
    "plt.figure(figsize=(10,10))\n",
    "plt.scatter(X,Y,1)\n",
    "x = np.array(range(-10,10))\n",
    "y = (w*x + b)\n",
    "plt.plot(x,y)\n",
    "plt.show()\n",
    "print(\"New w:\",w,\"New b:\",b)"
   ]
  },
  {
   "cell_type": "markdown",
   "metadata": {},
   "source": [
    "Now lets look at the case of n features added to the linear regression model"
   ]
  },
  {
   "cell_type": "code",
   "execution_count": 174,
   "metadata": {},
   "outputs": [
    {
     "name": "stdout",
     "output_type": "stream",
     "text": [
      "[0.99862163]\n",
      "[0.99793509]\n",
      "[0.99725541]\n",
      "[0.9965825]\n",
      "[0.99591629]\n",
      "[0.99525673]\n",
      "[0.99460374]\n",
      "[0.99395726]\n",
      "[0.99331722]\n",
      "[0.99268357]\n",
      "[0.99205623]\n",
      "[0.99143514]\n",
      "[0.99082025]\n",
      "[0.99021148]\n",
      "[0.98960879]\n",
      "[0.9890121]\n",
      "[0.98842136]\n",
      "[0.9878365]\n",
      "[0.98725748]\n",
      "[0.98668423]\n",
      "[0.98611669]\n",
      "[0.98555481]\n",
      "[0.98499854]\n",
      "[0.9844478]\n",
      "[0.98390256]\n",
      "[0.98336275]\n",
      "[0.98282832]\n",
      "[0.98229922]\n",
      "[0.9817754]\n",
      "[0.98125679]\n",
      "[0.98074336]\n",
      "[0.98023504]\n",
      "[0.97973179]\n",
      "[0.97923356]\n",
      "[0.97874029]\n",
      "[0.97825194]\n",
      "[0.97776846]\n",
      "[0.9772898]\n",
      "[0.97681591]\n",
      "[0.97634674]\n",
      "[0.97588225]\n",
      "[0.97542239]\n",
      "[0.97496711]\n",
      "[0.97451637]\n",
      "[0.97407013]\n",
      "[0.97362833]\n",
      "[0.97319094]\n",
      "[0.9727579]\n",
      "[0.97232919]\n",
      "[0.97190475]\n",
      "[0.97148453]\n",
      "[0.97106851]\n",
      "[0.97065663]\n",
      "[0.97024886]\n",
      "[0.96984516]\n",
      "[0.96944548]\n",
      "[0.96904978]\n",
      "[0.96865803]\n",
      "[0.96827018]\n",
      "[0.9678862]\n",
      "[0.96750604]\n",
      "[0.96712968]\n",
      "[0.96675706]\n",
      "[0.96638816]\n",
      "[0.96602294]\n",
      "[0.96566136]\n",
      "[0.96530338]\n",
      "[0.96494898]\n",
      "[0.9645981]\n",
      "[0.96425072]\n",
      "[0.96390681]\n",
      "[0.96356632]\n",
      "[0.96322923]\n",
      "[0.96289549]\n",
      "[0.96256509]\n",
      "[0.96223798]\n",
      "[0.96191412]\n",
      "[0.9615935]\n",
      "[0.96127607]\n",
      "[0.96096181]\n",
      "[0.96065068]\n",
      "[0.96034265]\n",
      "[0.96003769]\n",
      "[0.95973577]\n",
      "[0.95943686]\n",
      "[0.95914093]\n",
      "[0.95884795]\n",
      "[0.95855789]\n",
      "[0.95827073]\n",
      "[0.95798642]\n",
      "[0.95770495]\n",
      "[0.95742628]\n",
      "[0.95715039]\n",
      "[0.95687726]\n",
      "[0.95660684]\n",
      "[0.95633912]\n",
      "[0.95607407]\n",
      "[0.95581166]\n",
      "[0.95555187]\n",
      "[0.95529467]\n"
     ]
    },
    {
     "data": {
      "image/png": "[encoded data removed]",
      "text/plain": [
       "<Figure size 432x288 with 1 Axes>"
      ]
     },
     "metadata": {},
     "output_type": "display_data"
    },
    {
     "name": "stdout",
     "output_type": "stream",
     "text": [
      "[5.26454831e-17 1.03959830e-01]\n"
     ]
    },
    {
     "data": {
      "image/png": "[encoded data removed]",
      "text/plain": [
       "<Figure size 720x720 with 1 Axes>"
      ]
     },
     "metadata": {},
     "output_type": "display_data"
    },
    {
     "name": "stdout",
     "output_type": "stream",
     "text": [
      "New w: 0.10395983001502936 New b: 5.264548310228527e-17\n"
     ]
    }
   ],
   "source": [
    "def gradientDecent(X,Y,W,FeatureNames,learningRate=400,attempt=100):\n",
    "    XRow = X.values\n",
    "    size = Y.size\n",
    "    NewW = np.zeros(W.size)\n",
    "    toTeachW = np.zeros(W.size)\n",
    "    desc = 0\n",
    "    lossA = []\n",
    "    while desc < attempt:\n",
    "        i = 0\n",
    "        initW = NewW[0]\n",
    "        WeightL = NewW[1:]\n",
    "        guessY = []\n",
    "        #GUESS Y WITH MODEL\n",
    "        for x in XRow:\n",
    "            guessY.append(initW + sum(x*WeightL))\n",
    "\n",
    "        #GET THE NEW WEIGHT BASED ON EACH DERIVATIVE\n",
    "        toTeachW[0] = (-2/size)*sum(guessY-Y)\n",
    "        for f in FeatureNames:\n",
    "            x = X[f]\n",
    "            toTeachW[i+1] = (-2/size)*sum((guessY - Y)*x)\n",
    "            i=i+1\n",
    "        #ADJUST WEIGHT BASED ON THE LEARNING RATE\n",
    "        getLoss(X[\"LotArea\"].values,Y,NewW[1],NewW[0])\n",
    "        NewW = NewW + toTeachW/learningRate\n",
    "        desc = desc + 1\n",
    "        lossA.append(mvLoss(X,Y, NewW))\n",
    "    plt.scatter(range(0,attempt),lossA,1)\n",
    "    plt.show()\n",
    "    return NewW\n",
    "names = [\n",
    "\"LotArea\"\n",
    "]\n",
    "\n",
    "a =gradientDecent(features,price,np.array([1,1]),names)\n",
    "print(a)\n",
    "newW = a[1]\n",
    "newB = a[0]\n",
    "X = all[\"LotArea\"]\n",
    "plt.figure(figsize=(10,10))\n",
    "plt.scatter(X,Y,1)\n",
    "x = np.array(range(0,5,1))\n",
    "y = (newW*x + newB)\n",
    "plt.plot(x,y)\n",
    "plt.show()\n",
    "print(\"New w:\",newW,\"New b:\",newB)"
   ]
  }
 ],
 "metadata": {
  "kernelspec": {
   "display_name": "Python 3",
   "language": "python",
   "name": "python3"
  },
  "language_info": {
   "codemirror_mode": {
    "name": "ipython",
    "version": 3
   },
   "file_extension": ".py",
   "mimetype": "text/x-python",
   "name": "python",
   "nbconvert_exporter": "python",
   "pygments_lexer": "ipython3",
   "version": "3.6.5"
  }
 },
 "nbformat": 4,
 "nbformat_minor": 2
}
